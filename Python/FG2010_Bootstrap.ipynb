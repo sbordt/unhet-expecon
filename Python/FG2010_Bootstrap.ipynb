{
 "cells": [
  {
   "cell_type": "markdown",
   "metadata": {},
   "source": [
    "# Analyze Bootstrapped standard errors from Notebook FG2010"
   ]
  },
  {
   "cell_type": "code",
   "execution_count": 1,
   "metadata": {
    "collapsed": true
   },
   "outputs": [],
   "source": [
    "import pandas\n",
    "import matplotlib.pyplot as plt\n",
    "import cPickle as pickle\n",
    "\n",
    "execfile('gfe.py')\n",
    "\n",
    "path = \"C:\\\\Users\\\\sbordt\\\\Dropbox\\\\masterthesis\\\\csv\\\\FG2010\\\\\"\n",
    "picklepath = \"C:\\\\Users\\\\sbordt\\\\Dropbox\\\\masterthesis\\\\python\\\\pickle\\\\\""
   ]
  },
  {
   "cell_type": "code",
   "execution_count": 15,
   "metadata": {
    "collapsed": true
   },
   "outputs": [],
   "source": [
    "def subgroup(ass_repl, ass):    \n",
    "    a1 = np.array(ass_repl)\n",
    "    a2 = np.array([1-v if v != -1 else -1 for v in ass_repl])   # 0 and 1 interchanged\n",
    "    N = float(sum(a1 != -1))\n",
    "    \n",
    "    b = np.array([v if a1[i] != -1 else -1 for i, v in enumerate(ass)])   # -1 where ass_repl is -1\n",
    "    \n",
    "    error_1 = sum(a1 != b)/N\n",
    "    error_2 = sum(a2 != b)/N\n",
    "    \n",
    "    if error_1 < error_2:\n",
    "        return a1.tolist(), error_1\n",
    "    \n",
    "    return a2.tolist(), error_2"
   ]
  },
  {
   "cell_type": "code",
   "execution_count": 63,
   "metadata": {
    "collapsed": false
   },
   "outputs": [],
   "source": [
    "def best_group(ass_repl, ass):\n",
    "    N = len(ass)\n",
    "    \n",
    "    n1 = sum([1 if ass_repl[i] == 1 and ass[i] == 0 else 0 for i in xrange(N)])   # 1 and 0\n",
    "    n2 = sum([1 if ass_repl[i] == 1 and ass[i] == 1 else 0 for i in xrange(N)])   # 1 and 1 \n",
    "    n3 = sum([1 if ass_repl[i] == 0 and ass[i] == 1 else 0 for i in xrange(N)])   # 0 and 1\n",
    "    n4 = sum([1 if ass_repl[i] == 0 and ass[i] == 0 else 0 for i in xrange(N)])   # 0 and 0\n",
    "    \n",
    "    C1 = float(sum([1 if ass_repl[i] == 1 else 0 for i in xrange(N)]))\n",
    "    C0 = float(sum([1 if ass_repl[i] == 0 else 0 for i in xrange(N)]))\n",
    "    \n",
    "    return np.max([n1/C1, n2/C1, n3/C0, n4/C0])\n",
    "    \n",
    "    #return [[C1, ], [], [], []][]\n"
   ]
  },
  {
   "cell_type": "code",
   "execution_count": 81,
   "metadata": {
    "collapsed": true
   },
   "outputs": [],
   "source": [
    "def groupings_relation(ass_repl, ass):\n",
    "    N = len(ass)\n",
    "    \n",
    "    r0 = float(sum([1 if ass_repl[i] == 0 else 0 for i in xrange(N)]))   # number of 0s in repl  \n",
    "    r1 = float(sum([1 if ass_repl[i] == 1 else 0 for i in xrange(N)]))   # number of 1s in repl  \n",
    "    \n",
    "    e1 = sum([1 if ass_repl[i] != -1 and ass_repl[i] != ass[i] else 0 for i in xrange(N)])\n",
    "    e2 = sum([1 if ass_repl[i] != -1 and 1-ass_repl[i] != ass[i] else 0 for i in xrange(N)])\n",
    "    \n",
    "    if e1 <= e2:\n",
    "        r0_o0 = sum([1 if ass_repl[i] == 0 and ass[i] == 0 else 0 for i in xrange(N)])   # repl 0 and original 0\n",
    "        r1_o1 = sum([1 if ass_repl[i] == 1 and ass[i] == 1 else 0 for i in xrange(N)])   # repl 1 and original 1 \n",
    "        i = np.argmax([r0_o0/r0, r1_o1/r1])\n",
    "        \n",
    "        return e1, ass_repl, [r0_o0/r0, r1_o1/r1][i], [0, 1][i]\n",
    "             \n",
    "    r1_o0 = sum([1 if ass_repl[i] == 1 and ass[i] == 0 else 0 for i in xrange(N)])   # repl 1 and original 0\n",
    "    r0_o1 = sum([1 if ass_repl[i] == 0 and ass[i] == 1 else 0 for i in xrange(N)])   # repl 0 and original 1\n",
    "    j = np.argmax([r0_o1/r0, r1_o0/r1])\n",
    "\n",
    "    return e2, [1-ass_repl[i] if ass_repl[i] != -1 else -1 for i in xrange(N)], [r0_o1/r0, r1_o0/r1][j], [1, 0][j]"
   ]
  },
  {
   "cell_type": "code",
   "execution_count": 88,
   "metadata": {
    "collapsed": false,
    "scrolled": true
   },
   "outputs": [
    {
     "name": "stdout",
     "output_type": "stream",
     "text": [
      "(0, [-1, -1, -1, 1, 1, 0, 0, 0, -1, -1], 1.0, 0)\n",
      "(0, [-1, -1, -1, 1, 1, 0, 0, 0, -1, -1], 1.0, 1)\n",
      "(2, [-1, -1, -1, 1, 0, 1, 0, -1, -1, -1], 0.5, 0)\n",
      "(1, [-1, -1, -1, 1, 1, 1, 0, -1, -1, -1], 1.0, 0)\n",
      "(1, [-1, -1, -1, 1, 1, 1, 0, -1, -1, -1], 1.0, 0)\n"
     ]
    }
   ],
   "source": [
    "# test\n",
    "print groupings_relation([-1, -1, -1, 1, 1, 0, 0, 0, -1, -1], [1, 1, 1, 1, 1, 0, 0, 0, 0, 0])\n",
    "print groupings_relation([-1, -1, -1, 0, 0, 1, 1, 1, -1, -1], [1, 1, 1, 1, 1, 0, 0, 0, 0, 0])\n",
    "print groupings_relation([-1, -1, -1, 1, 0, 1, 0, -1, -1, -1], [1, 1, 1, 1, 1, 0, 0, 0, 0, 0])\n",
    "print groupings_relation([-1, -1, -1, 1, 1, 1, 0, -1, -1, -1], [1, 1, 1, 1, 1, 0, 0, 0, 0, 0])\n",
    "print groupings_relation([-1, -1, -1, 0, 0, 0, 1, -1, -1, -1], [1, 1, 1, 1, 1, 0, 0, 0, 0, 0])"
   ]
  },
  {
   "cell_type": "markdown",
   "metadata": {},
   "source": [
    "## Load data from all replications"
   ]
  },
  {
   "cell_type": "code",
   "execution_count": 114,
   "metadata": {
    "collapsed": true
   },
   "outputs": [],
   "source": [
    "bdata = {}\n",
    "\n",
    "for case in[\"ALL\", \"NC\", \"CCNC\", \"TR\"]:\n",
    "    for var in [\"betaHet\", \"alpha\", \"ass\", \"betaHet_repl\", \"ass_repl\"]:\n",
    "        bdata[var+case] = pickle.load( open(picklepath+var+case+\".pkl\", 'rb') )"
   ]
  },
  {
   "cell_type": "markdown",
   "metadata": {},
   "source": [
    "## Analyze all at once"
   ]
  },
  {
   "cell_type": "code",
   "execution_count": 138,
   "metadata": {
    "collapsed": false,
    "scrolled": true
   },
   "outputs": [
    {
     "name": "stdout",
     "output_type": "stream",
     "text": [
      "--------------------------------------------------------------------------\n",
      "                                ALL\n",
      "--------------------------------------------------------------------------\n"
     ]
    },
    {
     "data": {
      "image/png": "[encoded data removed]",
      "text/plain": [
       "<matplotlib.figure.Figure at 0xc7d2240>"
      ]
     },
     "metadata": {},
     "output_type": "display_data"
    },
    {
     "data": {
      "image/png": "[encoded data removed]",
      "text/plain": [
       "<matplotlib.figure.Figure at 0xc2bf630>"
      ]
     },
     "metadata": {},
     "output_type": "display_data"
    },
    {
     "data": {
      "image/png": "[encoded data removed]",
      "text/plain": [
       "<matplotlib.figure.Figure at 0xd1fa518>"
      ]
     },
     "metadata": {},
     "output_type": "display_data"
    },
    {
     "data": {
      "image/png": "[encoded data removed]",
      "text/plain": [
       "<matplotlib.figure.Figure at 0xd4eaef0>"
      ]
     },
     "metadata": {},
     "output_type": "display_data"
    },
    {
     "name": "stdout",
     "output_type": "stream",
     "text": [
      "----- Group 1 -----\n",
      "0.214490088811\n",
      "0.243416618308\n",
      "----- Group 2 -----\n",
      "0.18125986875\n",
      "0.594638922349\n",
      "--------------------------------------------------------------------------\n",
      "                                NC\n",
      "--------------------------------------------------------------------------\n"
     ]
    },
    {
     "data": {
      "image/png": "[encoded data removed]",
      "text/plain": [
       "<matplotlib.figure.Figure at 0xd277208>"
      ]
     },
     "metadata": {},
     "output_type": "display_data"
    },
    {
     "data": {
      "image/png": "[encoded data removed]",
      "text/plain": [
       "<matplotlib.figure.Figure at 0xc86fac8>"
      ]
     },
     "metadata": {},
     "output_type": "display_data"
    },
    {
     "data": {
      "image/png": "[encoded data removed]",
      "text/plain": [
       "<matplotlib.figure.Figure at 0xca8b6d8>"
      ]
     },
     "metadata": {},
     "output_type": "display_data"
    },
    {
     "data": {
      "image/png": "[encoded data removed]",
      "text/plain": [
       "<matplotlib.figure.Figure at 0xc766048>"
      ]
     },
     "metadata": {},
     "output_type": "display_data"
    },
    {
     "name": "stdout",
     "output_type": "stream",
     "text": [
      "----- Group 1 -----\n",
      "0.122649017284\n",
      "0.145388206665\n",
      "----- Group 2 -----\n",
      "0.11604075735\n",
      "0.214902783195\n",
      "--------------------------------------------------------------------------\n",
      "                                CCNC\n",
      "--------------------------------------------------------------------------\n",
      "[[ 0.062911    0.81983732]\n",
      " [-0.43991275  0.20479826]]\n"
     ]
    },
    {
     "data": {
      "image/png": "[encoded data removed]",
      "text/plain": [
       "<matplotlib.figure.Figure at 0xd1ee6d8>"
      ]
     },
     "metadata": {},
     "output_type": "display_data"
    },
    {
     "data": {
      "image/png": "[encoded data removed]",
      "text/plain": [
       "<matplotlib.figure.Figure at 0xd514a90>"
      ]
     },
     "metadata": {},
     "output_type": "display_data"
    },
    {
     "data": {
      "image/png": "[encoded data removed]",
      "text/plain": [
       "<matplotlib.figure.Figure at 0xc8efcc0>"
      ]
     },
     "metadata": {},
     "output_type": "display_data"
    },
    {
     "data": {
      "image/png": "[encoded data removed]",
      "text/plain": [
       "<matplotlib.figure.Figure at 0xc775e80>"
      ]
     },
     "metadata": {},
     "output_type": "display_data"
    },
    {
     "name": "stdout",
     "output_type": "stream",
     "text": [
      "----- Group 1 -----\n",
      "0.333924337116\n",
      "0.319297228\n",
      "----- Group 2 -----\n",
      "0.274653834864\n",
      "0.256187175247\n",
      "--------------------------------------------------------------------------\n",
      "                                TR\n",
      "--------------------------------------------------------------------------\n",
      "[[ 0.12733563 -0.29944578]\n",
      " [ 0.91135015  0.19610546]]\n",
      "[[ 0.82733743  0.02515935]\n",
      " [ 0.90718678  0.09342781]]\n",
      "[[ 0.95273934 -0.05585895]\n",
      " [ 0.88393642 -0.07555714]]\n",
      "[[ 0.92183303  0.13532065]\n",
      " [ 2.21010461  1.86679391]]\n",
      "[[ 0.64460076 -0.35537707]\n",
      " [ 0.93422499 -0.04992008]]\n",
      "[[ 0.87424178  0.08517615]\n",
      " [ 0.921492    0.01378306]]\n",
      "[[ 0.64612324  0.19845896]\n",
      " [ 1.88275828  2.41073749]]\n",
      "[[ 0.9653535  -0.11889446]\n",
      " [ 0.74015184  0.15776559]]\n",
      "[[ 0.89405075 -0.21618312]\n",
      " [ 0.85832259  0.00728473]]\n",
      "[[ 0.97497478 -0.11665166]\n",
      " [ 0.71753788 -0.11429053]]\n",
      "[[ 0.89981255 -0.08354993]\n",
      " [ 0.90492524  0.07391093]]\n",
      "[[ 0.86620413  0.08564798]\n",
      " [ 0.45399393  0.3729551 ]]\n",
      "[[ 0.18506886  0.00126718]\n",
      " [ 0.67720396  0.13235666]]\n",
      "[[ 0.97180359 -0.00820813]\n",
      " [ 0.96217481 -0.34409895]]\n",
      "[[ 0.26489778 -0.38581992]\n",
      " [ 0.90559107  0.06009324]]\n",
      "[[ 1.02800353 -0.00218424]\n",
      " [ 0.98497331  0.05122518]]\n",
      "[[ 0.92574297  0.07495439]\n",
      " [ 0.73517479 -0.29431358]]\n",
      "[[ 0.75148405 -0.07858073]\n",
      " [ 0.83134346 -0.88677156]]\n",
      "[[ 0.89313106  0.02941776]\n",
      " [ 0.40211098  0.40455985]]\n",
      "[[ 0.94904063  0.15282183]\n",
      " [ 0.90799556 -0.00461928]]\n",
      "[[ 0.52612481  0.19940968]\n",
      " [-0.87174437 -0.83360893]]\n"
     ]
    },
    {
     "data": {
      "image/png": "[encoded data removed]",
      "text/plain": [
       "<matplotlib.figure.Figure at 0xc397d30>"
      ]
     },
     "metadata": {},
     "output_type": "display_data"
    },
    {
     "data": {
      "image/png": "[encoded data removed]",
      "text/plain": [
       "<matplotlib.figure.Figure at 0xc784358>"
      ]
     },
     "metadata": {},
     "output_type": "display_data"
    },
    {
     "data": {
      "image/png": "[encoded data removed]",
      "text/plain": [
       "<matplotlib.figure.Figure at 0xc766780>"
      ]
     },
     "metadata": {},
     "output_type": "display_data"
    },
    {
     "data": {
      "image/png": "[encoded data removed]",
      "text/plain": [
       "<matplotlib.figure.Figure at 0xc784cf8>"
      ]
     },
     "metadata": {},
     "output_type": "display_data"
    },
    {
     "name": "stdout",
     "output_type": "stream",
     "text": [
      "----- Group 1 -----\n",
      "0.506765666039\n",
      "0.729490176971\n",
      "----- Group 2 -----\n",
      "0.559687676156\n",
      "1.0880512659\n"
     ]
    }
   ],
   "source": [
    "adata = {}\n",
    "\n",
    "for case in[\"ALL\", \"NC\", \"CCNC\", \"TR\"]:\n",
    "    print \"--------------------------------------------------------------------------\"\n",
    "    print \"                                \" + case\n",
    "    print \"--------------------------------------------------------------------------\"\n",
    "    \n",
    "    betaHet = bdata[\"betaHet\"+case]\n",
    "    ass = bdata[\"ass\"+case]\n",
    "    \n",
    "    belief_G1 = []\n",
    "    belief_G2 = []\n",
    "    predcont_G1 = []\n",
    "    predcont_G2 = []\n",
    "    \n",
    "    for i in xrange(len(bdata[\"ass_repl\"+case])):\n",
    "        betaHet_repl = bdata[\"betaHet_repl\"+case][i]\n",
    "        ass_repl = bdata[\"ass_repl\"+case][i]\n",
    "        \n",
    "        N = float(sum(np.array(ass_repl) != -1))\n",
    "        error, ass_repl_switched, best_fit, best = groupings_relation(ass_repl, ass)\n",
    "        \n",
    "        d = abs((betaHet_repl[0][0]-betaHet_repl[0][1]) - (betaHet_repl[1][0]-betaHet_repl[1][1]))\n",
    "        \n",
    "        if d<1 and best_fit<0.9:   # it works well except for TR\n",
    "            print betaHet_repl\n",
    "            \n",
    "        if ass_repl == ass_repl_switched:\n",
    "            belief_G1.append(betaHet_repl[0][0])\n",
    "            predcont_G1.append(betaHet_repl[0][1])\n",
    "            belief_G2.append(betaHet_repl[1][0])\n",
    "            predcont_G2.append(betaHet_repl[1][1])\n",
    "        else:\n",
    "            belief_G1.append(betaHet_repl[1][0])\n",
    "            predcont_G1.append(betaHet_repl[1][1])\n",
    "            belief_G2.append(betaHet_repl[0][0])\n",
    "            predcont_G2.append(betaHet_repl[0][1])\n",
    "    \n",
    "    # output\n",
    "    plt.hist(belief_G1, bins='auto')\n",
    "    plt.show()\n",
    "    \n",
    "    plt.hist(belief_G2, bins='auto')\n",
    "    plt.show()\n",
    "    \n",
    "    plt.hist(predcont_G1, bins='auto')\n",
    "    plt.show()\n",
    "    \n",
    "    plt.hist(predcont_G2, bins='auto')\n",
    "    plt.show()\n",
    "    \n",
    "    # method 1\n",
    "    print \"----- Group 1 -----\"\n",
    "    print np.sqrt(sum(pow(belief_G1-sum(belief_G1)/len(belief_G1),2))/(len(belief_G1)-1))\n",
    "    print np.sqrt(sum(pow(predcont_G1-sum(predcont_G1)/len(predcont_G1),2))/(len(predcont_G1)-1))\n",
    "\n",
    "    print \"----- Group 2 -----\"\n",
    "    print np.sqrt(sum(pow(belief_G2-sum(belief_G2)/len(belief_G2),2))/(len(belief_G2)-1))\n",
    "    print np.sqrt(sum(pow(predcont_G2-sum(predcont_G2)/len(predcont_G2),2))/(len(predcont_G2)-1))\n",
    "    \n",
    "    # save as txt\n",
    "    txtG1 = \"\"\n",
    "    txtG2 = \"\"\n",
    "    \n",
    "    for v in belief_G1:\n",
    "        txtG1 = txtG1 + \"%.6f\\n\" % v\n",
    "    for v in belief_G2:\n",
    "        txtG2 = txtG2 + \"%.6f\\n\" % v\n",
    "\n",
    "    open(path+\"GFE\\\\bootstrap\\\\belief_G1_\"+case+\".txt\", 'w').write(txtG1[:-1]) \n",
    "    open(path+\"GFE\\\\bootstrap\\\\belief_G2_\"+case+\".txt\", 'w').write(txtG2[:-1]) \n",
    "    open(path+\"GFE\\\\bootstrap\\\\belief_\"+case+\".txt\", 'w').write((txtG1+txtG2)[:-1])\n",
    "    \n",
    "    txtG1 = \"\"\n",
    "    txtG2 = \"\"\n",
    "    \n",
    "    for v in predcont_G1:\n",
    "        txtG1 = txtG1 + \"%.6f\\n\" % v\n",
    "    for v in predcont_G2:\n",
    "        txtG2 = txtG2 + \"%.6f\\n\" % v\n",
    "        \n",
    "    open(path+\"GFE\\\\bootstrap\\\\predcont_G1_\"+case+\".txt\", 'w').write(txtG1[:-1]) \n",
    "    open(path+\"GFE\\\\bootstrap\\\\predcont_G2_\"+case+\".txt\", 'w').write(txtG2[:-1]) \n",
    "    open(path+\"GFE\\\\bootstrap\\\\predcont_\"+case+\".txt\", 'w').write((txtG1+txtG2)[:-1])\n"
   ]
  },
  {
   "cell_type": "code",
   "execution_count": 14,
   "metadata": {
    "collapsed": false
   },
   "outputs": [
    {
     "name": "stdout",
     "output_type": "stream",
     "text": [
      "['ass_replALL', 'betaHet_replALL', 'betaHetALL', 'alphaALL', 'assALL']\n"
     ]
    }
   ],
   "source": []
  },
  {
   "cell_type": "code",
   "execution_count": null,
   "metadata": {
    "collapsed": true
   },
   "outputs": [],
   "source": [
    "    \n",
    "for i, repl in enumerate(betaHet_replFR):\n",
    "    # look at how groups align\n",
    "    ass, error = subgroups(ass_replALL[i], assFR)\n",
    "    if error > 0.2: \n",
    "        print error\n",
    "        print repl\n",
    "    \n",
    "    if ass == ass_replFR[i]:\n",
    "        bootstrap_g1_FR.append(repl[0][0])\n",
    "        bootstrap_g2_FR.append(repl[1][0])  \n",
    "    else:\n",
    "        bootstrap_g1_FR.append(repl[1][0])\n",
    "        bootstrap_g2_FR.append(repl[0][0]) \n",
    "        \n",
    "# method 1\n",
    "mean = sum(bootstrap_g1_FR)/len(bootstrap_g1_FR)\n",
    "print np.sqrt(sum(pow(bootstrap_g1_FR-mean,2))/(len(bootstrap_g1_FR)-1))\n",
    "\n",
    "mean = sum(bootstrap_g2_FR)/len(bootstrap_g2_FR)\n",
    "print np.sqrt(sum(pow(bootstrap_g2_FR-mean,2))/(len(bootstrap_g2_FR)-1))\n",
    "\n",
    "# method 2\n",
    "print np.sqrt(sum(pow(np.array(bootstrap_g1_FR)-0.937,2))/(len(bootstrap_g1_FR)-1))\n",
    "print np.sqrt(sum(pow(np.array(bootstrap_g2_FR)-0.183,2))/(len(bootstrap_g2_FR)-1))"
   ]
  },
  {
   "cell_type": "code",
   "execution_count": 32,
   "metadata": {
    "collapsed": false
   },
   "outputs": [
    {
     "name": "stdout",
     "output_type": "stream",
     "text": [
      "3\n"
     ]
    }
   ],
   "source": [
    "print np.argmin([1,2,3,0])"
   ]
  }
 ],
 "metadata": {
  "kernelspec": {
   "display_name": "Python 2",
   "language": "python",
   "name": "python2"
  },
  "language_info": {
   "codemirror_mode": {
    "name": "ipython",
    "version": 2
   },
   "file_extension": ".py",
   "mimetype": "text/x-python",
   "name": "python",
   "nbconvert_exporter": "python",
   "pygments_lexer": "ipython2",
   "version": "2.7.13"
  }
 },
 "nbformat": 4,
 "nbformat_minor": 2
}
